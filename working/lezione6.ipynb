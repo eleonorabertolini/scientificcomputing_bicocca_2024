{
 "cells": [
  {
   "cell_type": "markdown",
   "id": "26b95bfa-d279-4815-b251-9304344d14d3",
   "metadata": {
    "jp-MarkdownHeadingCollapsed": true
   },
   "source": [
    "# Q3: Ditch Overleaf\n",
    "\n",
    "I'm doing this now "
   ]
  },
  {
   "cell_type": "markdown",
   "id": "e897d376-1501-4aa3-a8c5-aa5087e0f814",
   "metadata": {},
   "source": [
    "# Q4: You're wrong"
   ]
  },
  {
   "cell_type": "markdown",
   "id": "18ea53ba-afef-497c-8a8e-c1926c12edc2",
   "metadata": {},
   "source": [
    "I enclose a screen of the pull request"
   ]
  },
  {
   "cell_type": "code",
   "execution_count": null,
   "id": "0e2aa8d7-9f7e-4d42-901e-4617e0eb30e5",
   "metadata": {},
   "outputs": [],
   "source": []
  }
 ],
 "metadata": {
  "kernelspec": {
   "display_name": "Python [conda env:base] *",
   "language": "python",
   "name": "conda-base-py"
  },
  "language_info": {
   "codemirror_mode": {
    "name": "ipython",
    "version": 3
   },
   "file_extension": ".py",
   "mimetype": "text/x-python",
   "name": "python",
   "nbconvert_exporter": "python",
   "pygments_lexer": "ipython3",
   "version": "3.12.7"
  }
 },
 "nbformat": 4,
 "nbformat_minor": 5
}

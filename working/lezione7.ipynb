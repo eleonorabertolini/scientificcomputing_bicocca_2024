{
 "cells": [
  {
   "cell_type": "markdown",
   "id": "c4c00da9-c4b4-44e6-8724-569e93b811fb",
   "metadata": {},
   "source": [
    "# Q1: The stock market"
   ]
  },
  {
   "cell_type": "code",
   "execution_count": 14,
   "id": "5d335948-b4fe-4a4d-a44e-d74a99d14758",
   "metadata": {},
   "outputs": [
    {
     "name": "stdout",
     "output_type": "stream",
     "text": [
      "Python version time: 0.005467083014082164\n",
      "Counts: [0.622, 0.3105, 0.0675]\n",
      "Numba version time: 0.12693937501171604\n",
      "Counts: [0.6226 0.3156 0.0618]\n"
     ]
    }
   ],
   "source": [
    "import random\n",
    "import numpy as np\n",
    "from numba import njit\n",
    "import timeit\n",
    "\n",
    "def market(stato, stato_cont, N):\n",
    "    \"\"\"Python version\"\"\"\n",
    "    for _ in range(N):\n",
    "        p = random.uniform(0, 1)\n",
    "        if stato == 0:  # Bull\n",
    "            if p > 0.9 and p <= 0.975:\n",
    "                stato = 1\n",
    "            elif p > 0.975:\n",
    "                stato = 2\n",
    "        elif stato == 1:  # Bear\n",
    "            if p > 0.8 and p <= 0.95:\n",
    "                stato = 0\n",
    "            elif p > 0.95:\n",
    "                stato = 2\n",
    "        elif stato == 2:  # Recession\n",
    "            if p > 0.5 and p <= 0.75:\n",
    "                stato = 0\n",
    "            elif p > 0.75:\n",
    "                stato = 1\n",
    "        stato_cont[stato] += 1\n",
    "    for i in range(len(stato_cont)):\n",
    "        stato_cont[i] /= N\n",
    "\n",
    "@njit\n",
    "def market_numba(stato, stato_cont, N):\n",
    "    \"\"\"Numba version\"\"\"\n",
    "    for _ in range(N):\n",
    "        p = np.random.uniform(0, 1)\n",
    "        if stato == 0:\n",
    "            if p > 0.9 and p <= 0.975:\n",
    "                stato = 1\n",
    "            elif p > 0.975:\n",
    "                stato = 2\n",
    "        elif stato == 1:\n",
    "            if p > 0.8 and p <= 0.95:\n",
    "                stato = 0\n",
    "            elif p > 0.95:\n",
    "                stato = 2\n",
    "        elif stato == 2:\n",
    "            if p > 0.5 and p <= 0.75:\n",
    "                stato = 0\n",
    "            elif p > 0.75:\n",
    "                stato = 1\n",
    "        stato_cont[stato] += 1\n",
    "    for i in range(len(stato_cont)):\n",
    "        stato_cont[i] /= N\n",
    "\n",
    "\n",
    "N = 10000\n",
    "stato = random.randint(0, 2)\n",
    "\n",
    "# --- Python version ---\n",
    "counts = [0., 0., 0.]\n",
    "start = timeit.default_timer()\n",
    "market(stato, counts, N)\n",
    "end = timeit.default_timer()\n",
    "print(\"Python version time:\", end - start)\n",
    "print(\"Counts:\", counts)\n",
    "\n",
    "# --- Numba version ---\n",
    "counts_numba = np.zeros(3) \n",
    "start = timeit.default_timer()\n",
    "market_numba(stato, counts_numba, N)\n",
    "end = timeit.default_timer()\n",
    "print(\"Numba version time:\", end - start)\n",
    "print(\"Counts:\", counts_numba)\n",
    "\n",
    " \n",
    "\n"
   ]
  },
  {
   "cell_type": "markdown",
   "id": "0239440a-f444-48cb-86d0-bb3a954ba08a",
   "metadata": {},
   "source": [
    "# Q2: Consistent plotting"
   ]
  },
  {
   "cell_type": "code",
   "execution_count": 21,
   "id": "f8ac99e3-fa46-48f4-8446-1d14e9024a62",
   "metadata": {},
   "outputs": [
    {
     "data": {
      "image/png": "[encoded data removed]",
      "text/plain": [
       "<Figure size 600x600 with 1 Axes>"
      ]
     },
     "execution_count": 21,
     "metadata": {},
     "output_type": "execute_result"
    }
   ],
   "source": [
    "import numpy as np\n",
    "import matplotlib.pyplot as plt\n",
    "\n",
    "\n",
    "def myplot(grafico):\n",
    "    def wrapper():\n",
    "       \n",
    "        plt.rcParams.update({'font.size': 12, 'figure.figsize': (6, 6)})\n",
    "        \n",
    "       \n",
    "        fig = grafico()\n",
    "        \n",
    "    \n",
    "        plt.savefig(\"plot.pdf\", format=\"pdf\")\n",
    "        #plt.show()\n",
    "        plt.close(fig)\n",
    "        \n",
    "        return fig\n",
    "    return wrapper\n",
    "\n",
    "\n",
    "@myplot  \n",
    "def grafico():\n",
    "   \n",
    "    x = np.linspace(1, 10, 100)  \n",
    "    y = np.logspace(1, 3, 100) \n",
    "\n",
    "    \n",
    "    fig, ax = plt.subplots()\n",
    "    ax.plot(x, y, 'o', label=\"Grafico test\")\n",
    "    ax.set_xscale('log')\n",
    "    ax.set_yscale('log')\n",
    "    ax.set_title(\"Titolo\")\n",
    "    ax.set_xlabel(\"X\")\n",
    "    ax.set_ylabel(\"Y\")\n",
    "    ax.legend()\n",
    "    \n",
    "    return fig\n",
    "\n",
    "\n",
    "grafico()\n"
   ]
  },
  {
   "cell_type": "code",
   "execution_count": null,
   "id": "2f1c3b6b-f08b-4dc1-905b-b1a66f745b59",
   "metadata": {},
   "outputs": [],
   "source": [
    "\n"
   ]
  },
  {
   "cell_type": "code",
   "execution_count": null,
   "id": "baf52f36-1c6b-42ea-ab42-869bb6c340ca",
   "metadata": {},
   "outputs": [],
   "source": []
  },
  {
   "cell_type": "code",
   "execution_count": null,
   "id": "9087c3f5-bfae-473b-9e8b-ae626fd05ef4",
   "metadata": {},
   "outputs": [],
   "source": []
  }
 ],
 "metadata": {
  "kernelspec": {
   "display_name": "Python [conda env:base] *",
   "language": "python",
   "name": "conda-base-py"
  },
  "language_info": {
   "codemirror_mode": {
    "name": "ipython",
    "version": 3
   },
   "file_extension": ".py",
   "mimetype": "text/x-python",
   "name": "python",
   "nbconvert_exporter": "python",
   "pygments_lexer": "ipython3",
   "version": "3.12.7"
  }
 },
 "nbformat": 4,
 "nbformat_minor": 5
}

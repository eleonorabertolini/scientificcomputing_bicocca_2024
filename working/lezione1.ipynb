{
 "cells": [
  {
   "cell_type": "markdown",
   "id": "4c290b0b-4008-4cdb-9c5a-ddd3fecd4558",
   "metadata": {},
   "source": [
    "# Q1: Machine precision"
   ]
  },
  {
   "cell_type": "code",
   "execution_count": 2,
   "id": "302160be-3523-4cc4-a41d-fad0812ecc98",
   "metadata": {},
   "outputs": [
    {
     "name": "stdout",
     "output_type": "stream",
     "text": [
      "2.220446049250313e-16\n"
     ]
    }
   ],
   "source": [
    "\n",
    "eps = 1 #primo guess\n",
    "\n",
    "while eps + 1 != 1:\n",
    "    eps = eps/2\n",
    "else:\n",
    "    print(eps*2)\n",
    "\n"
   ]
  },
  {
   "cell_type": "markdown",
   "id": "ad58d682-d3ef-4807-89d8-3d6a30a69c38",
   "metadata": {},
   "source": [
    "# Q2: Iterations"
   ]
  },
  {
   "cell_type": "code",
   "execution_count": 4,
   "id": "5fe32043-a3e7-4f57-90ca-a84f10ca0f19",
   "metadata": {},
   "outputs": [
    {
     "name": "stdout",
     "output_type": "stream",
     "text": [
      "Mary is 21 years old\n",
      "John is 56 years old\n",
      "Sarah is 98 years old\n",
      "[9, 2, 6, 5, 1, 0, 6, 4, 5, 4]\n",
      "Match: 6 and 6\n"
     ]
    }
   ],
   "source": [
    "import random\n",
    "\n",
    "#part1\n",
    "names = [\"Mary\", \"John\", \"Sarah\"]\n",
    "age = [21, 56, 98]\n",
    "\n",
    "for x,y in zip(names,age):\n",
    "    print(f'{x} is {y} years old')\n",
    "\n",
    "#part2\n",
    "\n",
    "\n",
    "random_list = [] #vettore con i numeri generati \n",
    "i = 0\n",
    "while i < 10: \n",
    "    random_list.append(random.randint(0, 9))\n",
    "    i = i+1\n",
    "print(random_list) \n",
    "\n",
    "for index, number in enumerate(random_list):\n",
    "    if index == number:\n",
    "        print(f\"Match: {number} and {index}\")"
   ]
  },
  {
   "cell_type": "markdown",
   "id": "ce593a96-c56a-435b-abdb-239d2f31f9da",
   "metadata": {},
   "source": [
    "# Q3: Books"
   ]
  },
  {
   "cell_type": "code",
   "execution_count": 10,
   "id": "683009d3-f429-43e5-9452-0a55b92159da",
   "metadata": {},
   "outputs": [
    {
     "name": "stdout",
     "output_type": "stream",
     "text": [
      "Don Quixote\n",
      "In Search Of Lost Time\n",
      "Ulysses\n",
      "The Odyssey\n",
      "War And Peace\n",
      "Moby Dick\n",
      "The Divine Comedy\n",
      "Hamlet\n",
      "The Adventures Of Huckleberry Finn\n",
      "The Great Gatsby\n"
     ]
    }
   ],
   "source": [
    "\n",
    "def maiuscole(a):\n",
    "    return a.upper()\n",
    "\n",
    "\n",
    "titles = [\"don quixote\", \n",
    "          \"in search of lost time\", \n",
    "          \"ulysses\", \n",
    "          \"the odyssey\", \n",
    "          \"war and peace\", \n",
    "          \"moby dick\", \n",
    "          \"the divine comedy\", \n",
    "          \"hamlet\", \n",
    "          \"the adventures of huckleberry finn\", \n",
    "          \"the great gatsby\"]\n",
    "\n",
    "for t in titles:\n",
    "    print( ' '.join([x[0].upper()+x[1:] for x in t.split(' ')]) )\n"
   ]
  },
  {
   "cell_type": "markdown",
   "id": "7b4b4fb0-d69e-4f5e-b5bb-0de973219543",
   "metadata": {},
   "source": [
    "# Q5: Foxes and dogs"
   ]
  },
  {
   "cell_type": "code",
   "execution_count": 13,
   "id": "b74f6bd3-126c-46a7-a272-93248046a15b",
   "metadata": {},
   "outputs": [
    {
     "name": "stdout",
     "output_type": "stream",
     "text": [
      "['quick', 'brown', 'jumps']\n",
      "True\n"
     ]
    }
   ],
   "source": [
    "#parte 1\n",
    "\n",
    "def n_words(message, n): # scrive le parole con lunghezza n\n",
    "    words = message.split()\n",
    "    n_letters = [w for w in words if len(w) == n]\n",
    "    return n_letters\n",
    "    \n",
    "message = \"The quick brown fox jumps over the lazy dog\"\n",
    "n = 5\n",
    "print(n_words(message, n))\n",
    "\n",
    "#parte2\n",
    "def panagram(message):  #scrive se la frase è un panagramma oppure no\n",
    "    alfabeto = ['a', 'b', 'c', 'd', 'e', 'f', 'g', 'h', 'i', 'j', 'k', 'l', 'm', 'n', 'o', 'p', 'q', 'r', 's', 't', 'u', 'v', 'w', 'x', 'y', 'z']\n",
    "    vettore1 = sorted(message.lower()) #vettore lettere ordinate\n",
    "    vettore2 = [] #vettore senza spazzi\n",
    "    vettore3 = [] #vettore ordinato senza ripetizioni\n",
    "    \n",
    "    for n in range(len(vettore1)):\n",
    "        for m in range(len(alfabeto)) :\n",
    "            if vettore1[n] == alfabeto[m]:\n",
    "                vettore2.append(alfabeto[m])\n",
    "    \n",
    "    for n in vettore2:\n",
    "        if n not in vettore3:\n",
    "            vettore3.append(n)\n",
    "    \n",
    "    if vettore3 == alfabeto:\n",
    "        print(True)\n",
    "    else:\n",
    "        print(False)\n",
    "        \n",
    "panagram(message)\n"
   ]
  },
  {
   "cell_type": "code",
   "execution_count": null,
   "id": "c07c192f-28f0-4fe6-93dc-7c283b603960",
   "metadata": {},
   "outputs": [],
   "source": []
  }
 ],
 "metadata": {
  "kernelspec": {
   "display_name": "Python [conda env:base] *",
   "language": "python",
   "name": "conda-base-py"
  },
  "language_info": {
   "codemirror_mode": {
    "name": "ipython",
    "version": 3
   },
   "file_extension": ".py",
   "mimetype": "text/x-python",
   "name": "python",
   "nbconvert_exporter": "python",
   "pygments_lexer": "ipython3",
   "version": "3.12.7"
  }
 },
 "nbformat": 4,
 "nbformat_minor": 5
}

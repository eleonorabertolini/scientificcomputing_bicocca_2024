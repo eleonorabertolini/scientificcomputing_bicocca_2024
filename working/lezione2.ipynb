{
 "cells": [
  {
   "cell_type": "markdown",
   "id": "2e235619-1d37-4e56-965e-af4998a9844f",
   "metadata": {},
   "source": [
    "# Q1: Fun with arrays"
   ]
  },
  {
   "cell_type": "code",
   "execution_count": 2,
   "id": "f58a2573-86b7-4992-b9b2-5fd6d03db13d",
   "metadata": {},
   "outputs": [
    {
     "name": "stdout",
     "output_type": "stream",
     "text": [
      "a : \n",
      "[[ 1  6 11]\n",
      " [ 2  7 12]\n",
      " [ 3  8 13]\n",
      " [ 4  9 14]\n",
      " [ 5 10 15]]\n",
      "b : \n",
      "[[ 2  7 12]\n",
      " [ 4  9 14]]\n"
     ]
    },
    {
     "name": "stdin",
     "output_type": "stream",
     "text": [
      "num righe:  6\n",
      "num colonne:  8\n"
     ]
    },
    {
     "name": "stdout",
     "output_type": "stream",
     "text": [
      "c : \n",
      "[[1 1 1 1 1 1 1 1]\n",
      " [1 0 0 0 0 0 0 1]\n",
      " [1 0 0 0 0 0 0 1]\n",
      " [1 0 0 0 0 0 0 1]\n",
      " [1 0 0 0 0 0 0 1]\n",
      " [1 1 1 1 1 1 1 1]]\n"
     ]
    }
   ],
   "source": [
    "\n",
    "import numpy as np\n",
    "\n",
    "#parte 1\n",
    "\n",
    "a = np.arange(1,16).reshape(5,3, order = 'F') #vettore1\n",
    "print('a : ')\n",
    "print(a)\n",
    "\n",
    "b = a[[1,3],:] #vettore 2\n",
    "print('b : ')\n",
    "print (b)\n",
    "\n",
    "def due_d(righe, colonne) : \n",
    "    zero = np.zeros((righe, colonne), dtype=int).reshape(righe,colonne)\n",
    "    zero[0,:] = 1\n",
    "    zero[righe -1 , :]=1 \n",
    "    zero[:,0] = 1\n",
    "    zero[:, colonne-1] = 1\n",
    "\n",
    "    return zero\n",
    "\n",
    "righe = int(input('num righe: '))\n",
    "colonne = int(input('num colonne: '))\n",
    "print('c : ')\n",
    "print(due_d(righe, colonne))\n",
    "\n"
   ]
  },
  {
   "cell_type": "markdown",
   "id": "46429611-b304-45af-a4dd-af9bdf063169",
   "metadata": {},
   "source": [
    "# Q2: Histograms"
   ]
  },
  {
   "cell_type": "code",
   "execution_count": 51,
   "id": "2e6fd33f-a559-47f4-befa-98d448d9d400",
   "metadata": {},
   "outputs": [
    {
     "name": "stdout",
     "output_type": "stream",
     "text": [
      "Bin center: -27.13, Count: 3\n",
      "Bin center: -20.21, Count: 4\n",
      "Bin center: -13.29, Count: 9\n",
      "Bin center: -6.37, Count: 22\n",
      "Bin center: 0.54, Count: 22\n",
      "Bin center: 7.46, Count: 22\n",
      "Bin center: 14.38, Count: 9\n",
      "Bin center: 21.30, Count: 7\n",
      "Bin center: 28.22, Count: 1\n",
      "Bin center: 35.14, Count: 1\n"
     ]
    }
   ],
   "source": [
    "import numpy as np\n",
    "import requests\n",
    "\n",
    "\n",
    "url = \"https://raw.githubusercontent.com/sbu-python-summer/python-tutorial/master/day-3/sample.txt\"\n",
    "filename = \"sample.txt\"\n",
    "\n",
    "response = requests.get(url)\n",
    "with open(filename, 'wb') as f:\n",
    "    f.write(response.content)\n",
    "\n",
    "\n",
    "x, y = np.loadtxt(filename, unpack=True)    #x e l'indice mentre y è il valore effettivo \n",
    "\n",
    "counts, bin_edges = np.histogram(y, bins=10)\n",
    "\n",
    "\n",
    "for i in range(len(counts)):\n",
    "    bin_center = (bin_edges[i] + bin_edges[i+1]) / 2\n",
    "    print(f\"Bin center: {bin_center:.2f}, Count: {counts[i]}\")\n"
   ]
  },
  {
   "cell_type": "markdown",
   "id": "3cc011ec-5533-4eb5-bc5b-19e25e66a431",
   "metadata": {},
   "source": [
    "# Q3: Are you faster than numpy? No"
   ]
  },
  {
   "cell_type": "code",
   "execution_count": 8,
   "id": "66126391-7e74-427a-b4c4-feca1bc96bb0",
   "metadata": {},
   "outputs": [
    {
     "name": "stdout",
     "output_type": "stream",
     "text": [
      "la deviazione standard calcolata dalla funzione dev è : \n",
      "288.6749902572095\n",
      "la deviazione standard calcolata da py è : \n",
      "288.6749902572095\n",
      "tempo impiegato dalla funzione: 0.001013040542602539 s\n",
      "tempo impiegato da py: 0.00039196014404296875 s\n"
     ]
    }
   ],
   "source": [
    "import numpy as np\n",
    "import time\n",
    "\n",
    "def dev(a): #funzione che calcola la dev standard\n",
    "    a_med = sum(a)/len(a)\n",
    "    \n",
    "    \n",
    "    b = 0\n",
    "    for i in range(len(a)):\n",
    "        b += ((a[i]-a_med)**2)/len(a)\n",
    "    \n",
    "    return np.sqrt(b)\n",
    "\n",
    "\n",
    "a = np.arange(1000) #array di test\n",
    "print('la deviazione standard calcolata dalla funzione dev è : ')\n",
    "t0 = time.time()\n",
    "print(dev(a))\n",
    "t1 = time.time()\n",
    "print('la deviazione standard calcolata da py è : ')\n",
    "t2 = time.time()\n",
    "print(np.std(a))\n",
    "t3 = time.time()\n",
    "print(\"tempo impiegato dalla funzione: {} s\".format(t1-t0))\n",
    "print(\"tempo impiegato da py: {} s\".format(t3-t2))"
   ]
  },
  {
   "cell_type": "code",
   "execution_count": null,
   "id": "c0e6d56f-3868-464d-bc09-d5ce95d42459",
   "metadata": {},
   "outputs": [],
   "source": [
    "\n"
   ]
  },
  {
   "cell_type": "code",
   "execution_count": null,
   "id": "fa6686ba-d778-4bce-8969-77c359266510",
   "metadata": {},
   "outputs": [],
   "source": []
  }
 ],
 "metadata": {
  "kernelspec": {
   "display_name": "Python [conda env:base] *",
   "language": "python",
   "name": "conda-base-py"
  },
  "language_info": {
   "codemirror_mode": {
    "name": "ipython",
    "version": 3
   },
   "file_extension": ".py",
   "mimetype": "text/x-python",
   "name": "python",
   "nbconvert_exporter": "python",
   "pygments_lexer": "ipython3",
   "version": "3.12.7"
  }
 },
 "nbformat": 4,
 "nbformat_minor": 5
}

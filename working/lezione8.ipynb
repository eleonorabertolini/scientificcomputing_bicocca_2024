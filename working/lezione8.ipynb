{
 "cells": [
  {
   "cell_type": "markdown",
   "id": "5a5ebff5-e8fe-41ea-816c-14500bc427fe",
   "metadata": {},
   "source": [
    "# Q4: It's over Anakin, I have the high ground. I hate you!"
   ]
  },
  {
   "cell_type": "code",
   "execution_count": 2,
   "id": "0f6aafad-0560-453e-b7ab-6f0b9b743edb",
   "metadata": {},
   "outputs": [
    {
     "name": "stdout",
     "output_type": "stream",
     "text": [
      "         20006 function calls in 0.004 seconds\n",
      "\n",
      "   Ordered by: cumulative time\n",
      "\n",
      "   ncalls  tottime  percall  cumtime  percall filename:lineno(function)\n",
      "        1    0.000    0.000    0.004    0.004 {built-in method builtins.exec}\n",
      "        1    0.000    0.000    0.004    0.004 <string>:1(<module>)\n",
      "        1    0.002    0.002    0.004    0.004 4026481524.py:5(market)\n",
      "    10000    0.001    0.000    0.002    0.000 random.py:494(uniform)\n",
      "    10000    0.001    0.000    0.001    0.000 {method 'random' of '_random.Random' objects}\n",
      "        1    0.000    0.000    0.000    0.000 {method 'disable' of '_lsprof.Profiler' objects}\n",
      "        1    0.000    0.000    0.000    0.000 {built-in method numpy.zeros}\n",
      "        1    0.000    0.000    0.000    0.000 {built-in method builtins.len}\n",
      "\n",
      "\n"
     ]
    }
   ],
   "source": [
    "import cProfile\n",
    "import numpy as np\n",
    "import random\n",
    "\n",
    "def market(stato, stato_cont, N):\n",
    "    for _ in range(N):\n",
    "        p = random.uniform(0, 1)\n",
    "        if stato == 0:  # Bull\n",
    "            if p > 0.9 and p <= 0.975:\n",
    "                stato = 1\n",
    "            elif p > 0.975:\n",
    "                stato = 2\n",
    "        elif stato == 1:  # Bear\n",
    "            if p > 0.8 and p <= 0.95:\n",
    "                stato = 0\n",
    "            elif p > 0.95:\n",
    "                stato = 2\n",
    "        elif stato == 2:  # Recession\n",
    "            if p > 0.5 and p <= 0.75:\n",
    "                stato = 0\n",
    "            elif p > 0.75:\n",
    "                stato = 1\n",
    "        stato_cont[stato] += 1\n",
    "\n",
    "    for i in range(len(stato_cont)):\n",
    "        stato_cont[i] /= N\n",
    "\n",
    "# Profiling the function\n",
    "cProfile.run('market(0, np.zeros(3), 10000)', sort='cumtime')\n",
    "\n"
   ]
  },
  {
   "cell_type": "code",
   "execution_count": 4,
   "id": "4a1ac821-64e4-4fff-952b-f55718c65873",
   "metadata": {},
   "outputs": [],
   "source": [
    "def market_optimized(stato, stato_cont, N):\n",
    "    # Pre-generate N random numbers\n",
    "    p_values = np.random.uniform(0, 1, N)\n",
    "    \n",
    "    for _ in range(N):\n",
    "        if stato == 0:  # Bull\n",
    "            mask_1 = (p_values > 0.9) & (p_values <= 0.975)\n",
    "            mask_2 = p_values > 0.975\n",
    "            stato = np.select([mask_1, mask_2], [1, 2], default=stato)\n",
    "        elif stato == 1:  # Bear\n",
    "            mask_1 = (p_values > 0.8) & (p_values <= 0.95)\n",
    "            mask_2 = p_values > 0.95\n",
    "            stato = np.select([mask_1, mask_2], [0, 2], default=stato)\n",
    "        elif stato == 2:  # Recession\n",
    "            mask_1 = (p_values > 0.5) & (p_values <= 0.75)\n",
    "            mask_2 = p_values > 0.75\n",
    "            stato = np.select([mask_1, mask_2], [0, 1], default=stato)\n",
    "        \n",
    "        stato_cont[stato] += 1\n",
    "    \n",
    "    stato_cont /= N  # Normalize"
   ]
  },
  {
   "cell_type": "code",
   "execution_count": null,
   "id": "5f47795a-1216-4195-8cb8-dcc4d5841f4e",
   "metadata": {},
   "outputs": [],
   "source": []
  },
  {
   "cell_type": "markdown",
   "id": "9eb1bf59-d97f-4c78-a8bf-df532047458c",
   "metadata": {},
   "source": [
    "# Q3: How do professionals do it?\n",
    "\n"
   ]
  },
  {
   "cell_type": "markdown",
   "id": "e579da46-98ea-47b3-a41d-c07fe228b0a9",
   "metadata": {},
   "source": [
    "I enclose a screen"
   ]
  },
  {
   "cell_type": "code",
   "execution_count": null,
   "id": "753fbab3-3b89-44c7-9daf-15a32a105b61",
   "metadata": {},
   "outputs": [],
   "source": []
  }
 ],
 "metadata": {
  "kernelspec": {
   "display_name": "Python [conda env:base] *",
   "language": "python",
   "name": "conda-base-py"
  },
  "language_info": {
   "codemirror_mode": {
    "name": "ipython",
    "version": 3
   },
   "file_extension": ".py",
   "mimetype": "text/x-python",
   "name": "python",
   "nbconvert_exporter": "python",
   "pygments_lexer": "ipython3",
   "version": "3.12.7"
  }
 },
 "nbformat": 4,
 "nbformat_minor": 5
}
